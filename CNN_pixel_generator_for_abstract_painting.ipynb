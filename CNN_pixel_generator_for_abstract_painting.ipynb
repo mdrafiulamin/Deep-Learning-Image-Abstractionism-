{
 "cells": [
  {
   "cell_type": "markdown",
   "metadata": {},
   "source": [
    "# Generating pixel(s) from an image using CNN with Tesnorflow using keras Wrapper\n",
    "\n",
    "  Md. Rafiul Amin, PSID 1637374"
   ]
  },
  {
   "cell_type": "markdown",
   "metadata": {},
   "source": [
    "## Fisrt Step\n",
    "   import packages used in this jupyter notebook"
   ]
  },
  {
   "cell_type": "code",
   "execution_count": 1,
   "metadata": {},
   "outputs": [
    {
     "name": "stderr",
     "output_type": "stream",
     "text": [
      "Using TensorFlow backend.\n"
     ]
    }
   ],
   "source": [
    "import numpy as np\n",
    "import matplotlib.pyplot as plt\n",
    "from keras import layers\n",
    "from keras.layers import Input, Dense, Activation\n",
    "from keras.models import Model\n",
    "from keras.utils import plot_model\n",
    "from IPython.display import SVG\n",
    "from keras.utils import model_to_dot\n",
    "from matplotlib.pyplot import imshow\n",
    "%matplotlib inline\n",
    "np.random.seed(1)"
   ]
  },
  {
   "cell_type": "markdown",
   "metadata": {},
   "source": [
    "# Second Step\n",
    "   Define our prediction model using keras API"
   ]
  },
  {
   "cell_type": "code",
   "execution_count": 2,
   "metadata": {},
   "outputs": [],
   "source": [
    "def PixModel(input_shape=(11,)):\n",
    "    \"\"\"\n",
    "    Implementation of the Generating pixel Model.\n",
    "    \n",
    "    Arguments:\n",
    "    input_shape -- shape of our input x,y,r,z\n",
    "\n",
    "    Returns:\n",
    "    model -- a Model() instance in Keras\n",
    "    \n",
    "    the default initializer is glorir_uniform for w and zero for b\n",
    "    \"\"\"\n",
    "\n",
    "    X_input = Input(input_shape)\n",
    "    \n",
    "    X = Dense(4096, activation='tanh',name='fc1')(X_input)\n",
    "    X = Dense(2048, activation='tanh',name='fc2')(X)\n",
    "    X = Dense(1024, activation='tanh',name='fc3')(X)\n",
    "    X = Dense(3, activation='sigmoid', name='out')(X)\n",
    "    # Create model. This creates Keras model instance, We'll use this instance to train/test the model.\n",
    "    model = Model(inputs=X_input, outputs=X, name='PixModel')\n",
    "\n",
    "    return model"
   ]
  },
  {
   "cell_type": "markdown",
   "metadata": {},
   "source": [
    "# Third Step\n",
    "  Create the model defined above.\n",
    "  Initialize some input data with different x,y,r and latent information vector z"
   ]
  },
  {
   "cell_type": "code",
   "execution_count": 3,
   "metadata": {},
   "outputs": [],
   "source": [
    "PixModel = PixModel()"
   ]
  },
  {
   "cell_type": "code",
   "execution_count": 4,
   "metadata": {},
   "outputs": [],
   "source": [
    "data = np.array([[[10,20,5,1,0,0,0,0,0,0,0]],[[1,2,5,1,0,0,0,0,0,0,0]],[[1,2,100,1,0,0,0,0,0,0,0]],[[10,20,5,0,0,0,0,0,0,0,1]],[[1,2,5,0,0,0,0,0,0,0,1]],[[1,2,100,0,0,0,0,0,0,0,1]]])"
   ]
  },
  {
   "cell_type": "markdown",
   "metadata": {},
   "source": [
    "# Fourth Step\n",
    " Generate pixel"
   ]
  },
  {
   "cell_type": "code",
   "execution_count": 5,
   "metadata": {},
   "outputs": [],
   "source": [
    "pixels=[]\n",
    "for i in range(data.shape[0]):\n",
    "    pixels.append(PixModel.predict(data[i]))\n",
    "pixels=np.array(pixels)"
   ]
  },
  {
   "cell_type": "code",
   "execution_count": 6,
   "metadata": {},
   "outputs": [
    {
     "data": {
      "image/png": "[encoded data removed]",
      "text/plain": [
       "<Figure size 720x504 with 6 Axes>"
      ]
     },
     "metadata": {
      "needs_background": "light"
     },
     "output_type": "display_data"
    }
   ],
   "source": [
    "plt.figure(figsize=(10,7))\n",
    "fig = plt.gcf()\n",
    "for i in range(len(pixels)):\n",
    "    plt.subplot(2,3,i+1)\n",
    "    plt.imshow(pixels[i].reshape(1,1,3))\n",
    "    plt.title('Generated pixel '+str(i))\n",
    "plt.show()\n",
    "fig.savefig('pixel.png', dpi=300, bbox_inches='tight')"
   ]
  },
  {
   "cell_type": "markdown",
   "metadata": {},
   "source": [
    "### generate images with 8*8"
   ]
  },
  {
   "cell_type": "code",
   "execution_count": 13,
   "metadata": {},
   "outputs": [],
   "source": [
    "images1=[] \n",
    "images2=[] \n",
    "images3=[]\n",
    "images4=[]\n",
    "images5=[]\n",
    "images6=[]\n",
    "\n",
    "for x in range(0, 8):\n",
    "    for y in range(0, 8):\n",
    "        r = x**2+y**2\n",
    "        vect = np.array([[x,y,r,1,0,0,0,0,0,0,0]])\n",
    "        images1.append(PixModel.predict(vect))\n",
    "        \n",
    "        \n",
    "for x in range(0, 8):\n",
    "    for y in range(0, 8):\n",
    "        r = x**2+y**2\n",
    "        vect = np.array([[x,y,r,1,0,0,0,0,0,0,0]])\n",
    "        images2.append(PixModel.predict(vect))\n",
    "        \n",
    "for x in range(0, 8):\n",
    "    for y in range(0, 8):\n",
    "        r = (x/2)**2+(y/2)**2\n",
    "        vect = np.array([[x,y,r,1,0,0,0,0,0,0,0]])\n",
    "        images3.append(PixModel.predict(vect))\n",
    "\n",
    "for x in range(0, 8):\n",
    "    for y in range(0, 8):\n",
    "        r = (x/3)**2+(y/3)**2\n",
    "        vect = np.array([[x,y,r,1,0,0,0,0,0,0,0]])\n",
    "        images4.append(PixModel.predict(vect))\n",
    "        \n",
    "for x in range(0, 8):\n",
    "    for y in range(0, 8):\n",
    "        r = (x/4)**2+(y/4)**2\n",
    "        vect = np.array([[x,y,r,1,0,0,0,0,0,0,0]])\n",
    "        images5.append(PixModel.predict(vect))\n",
    "        \n",
    "for x in range(0, 8):\n",
    "    for y in range(0, 8):\n",
    "        r = (x/8)**2+(y/8)**2\n",
    "        vect = np.array([[x,y,r,1,0,0,0,0,0,0,0]])\n",
    "        images6.append(PixModel.predict(vect))\n",
    "\n",
    "images1=np.array(images1)\n",
    "images2=np.array(images2)\n",
    "images3=np.array(images3)\n",
    "images4=np.array(images4)\n",
    "images5=np.array(images5)\n",
    "images6=np.array(images6)"
   ]
  },
  {
   "cell_type": "code",
   "execution_count": 14,
   "metadata": {
    "scrolled": true
   },
   "outputs": [
    {
     "data": {
      "image/png": "[encoded data removed]",
      "text/plain": [
       "<Figure size 720x504 with 6 Axes>"
      ]
     },
     "metadata": {
      "needs_background": "light"
     },
     "output_type": "display_data"
    }
   ],
   "source": [
    "plt.figure(figsize=(10,7))\n",
    "\n",
    "plt.subplot(2,3,1)\n",
    "plt.imshow(images1.reshape(8,8,3))\n",
    "plt.subplot(2,3,2)\n",
    "plt.imshow(images2.reshape(8,8,3))\n",
    "plt.subplot(2,3,3)\n",
    "plt.imshow(images3.reshape(8,8,3))\n",
    "plt.subplot(2,3,4)\n",
    "plt.imshow(images4.reshape(8,8,3))\n",
    "plt.subplot(2,3,5)\n",
    "plt.imshow(images5.reshape(8,8,3))\n",
    "plt.subplot(2,3,6)\n",
    "plt.imshow(images6.reshape(8,8,3))\n",
    "#plt.title('Generated image '+str(i))\n",
    "#plt.savefig('image.png', dpi=30000, bbox_inches='tight')\n",
    "plt.show()"
   ]
  },
  {
   "cell_type": "code",
   "execution_count": 9,
   "metadata": {},
   "outputs": [],
   "source": [
    "from keras.utils import plot_model\n",
    "from IPython.display import SVG\n",
    "from keras.utils.vis_utils import model_to_dot"
   ]
  },
  {
   "cell_type": "code",
   "execution_count": 10,
   "metadata": {},
   "outputs": [
    {
     "name": "stdout",
     "output_type": "stream",
     "text": [
      "Model: \"PixModel\"\n",
      "_________________________________________________________________\n",
      "Layer (type)                 Output Shape              Param #   \n",
      "=================================================================\n",
      "input_1 (InputLayer)         (None, 11)                0         \n",
      "_________________________________________________________________\n",
      "fc1 (Dense)                  (None, 4096)              49152     \n",
      "_________________________________________________________________\n",
      "fc2 (Dense)                  (None, 2048)              8390656   \n",
      "_________________________________________________________________\n",
      "fc3 (Dense)                  (None, 1024)              2098176   \n",
      "_________________________________________________________________\n",
      "out (Dense)                  (None, 3)                 3075      \n",
      "=================================================================\n",
      "Total params: 10,541,059\n",
      "Trainable params: 10,541,059\n",
      "Non-trainable params: 0\n",
      "_________________________________________________________________\n"
     ]
    },
    {
     "data": {
      "image/png": "[encoded data removed]",
      "text/plain": [
       "<IPython.core.display.Image object>"
      ]
     },
     "execution_count": 10,
     "metadata": {},
     "output_type": "execute_result"
    }
   ],
   "source": [
    "PixModel.summary()\n",
    "plot_model(PixModel, to_file='PixModel.png', show_shapes=True)"
   ]
  },
  {
   "cell_type": "code",
   "execution_count": 11,
   "metadata": {},
   "outputs": [
    {
     "data": {
      "image/svg+xml": [
       "<svg height=\"449pt\" viewBox=\"0.00 0.00 134.00 337.00\" width=\"179pt\" xmlns=\"http://www.w3.org/2000/svg\" xmlns:xlink=\"http://www.w3.org/1999/xlink\">\n",
       "<g class=\"graph\" id=\"graph0\" transform=\"scale(1.33333 1.33333) rotate(0) translate(4 333)\">\n",
       "<title>G</title>\n",
       "<polygon fill=\"white\" points=\"-4,4 -4,-333 130,-333 130,4 -4,4\" stroke=\"none\"/>\n",
       "<!-- 2389064339912 -->\n",
       "<g class=\"node\" id=\"node1\"><title>2389064339912</title>\n",
       "<polygon fill=\"none\" points=\"0,-292.5 0,-328.5 126,-328.5 126,-292.5 0,-292.5\" stroke=\"black\"/>\n",
       "<text font-family=\"Times New Roman,serif\" font-size=\"14.00\" text-anchor=\"middle\" x=\"63\" y=\"-306.8\">input_1: InputLayer</text>\n",
       "</g>\n",
       "<!-- 2389205536264 -->\n",
       "<g class=\"node\" id=\"node2\"><title>2389205536264</title>\n",
       "<polygon fill=\"none\" points=\"25,-219.5 25,-255.5 101,-255.5 101,-219.5 25,-219.5\" stroke=\"black\"/>\n",
       "<text font-family=\"Times New Roman,serif\" font-size=\"14.00\" text-anchor=\"middle\" x=\"63\" y=\"-233.8\">fc1: Dense</text>\n",
       "</g>\n",
       "<!-- 2389064339912&#45;&gt;2389205536264 -->\n",
       "<g class=\"edge\" id=\"edge1\"><title>2389064339912-&gt;2389205536264</title>\n",
       "<path d=\"M63,-292.313C63,-284.289 63,-274.547 63,-265.569\" fill=\"none\" stroke=\"black\"/>\n",
       "<polygon fill=\"black\" points=\"66.5001,-265.529 63,-255.529 59.5001,-265.529 66.5001,-265.529\" stroke=\"black\"/>\n",
       "</g>\n",
       "<!-- 2389205531208 -->\n",
       "<g class=\"node\" id=\"node3\"><title>2389205531208</title>\n",
       "<polygon fill=\"none\" points=\"25,-146.5 25,-182.5 101,-182.5 101,-146.5 25,-146.5\" stroke=\"black\"/>\n",
       "<text font-family=\"Times New Roman,serif\" font-size=\"14.00\" text-anchor=\"middle\" x=\"63\" y=\"-160.8\">fc2: Dense</text>\n",
       "</g>\n",
       "<!-- 2389205536264&#45;&gt;2389205531208 -->\n",
       "<g class=\"edge\" id=\"edge2\"><title>2389205536264-&gt;2389205531208</title>\n",
       "<path d=\"M63,-219.313C63,-211.289 63,-201.547 63,-192.569\" fill=\"none\" stroke=\"black\"/>\n",
       "<polygon fill=\"black\" points=\"66.5001,-192.529 63,-182.529 59.5001,-192.529 66.5001,-192.529\" stroke=\"black\"/>\n",
       "</g>\n",
       "<!-- 2389205946568 -->\n",
       "<g class=\"node\" id=\"node4\"><title>2389205946568</title>\n",
       "<polygon fill=\"none\" points=\"25,-73.5 25,-109.5 101,-109.5 101,-73.5 25,-73.5\" stroke=\"black\"/>\n",
       "<text font-family=\"Times New Roman,serif\" font-size=\"14.00\" text-anchor=\"middle\" x=\"63\" y=\"-87.8\">fc3: Dense</text>\n",
       "</g>\n",
       "<!-- 2389205531208&#45;&gt;2389205946568 -->\n",
       "<g class=\"edge\" id=\"edge3\"><title>2389205531208-&gt;2389205946568</title>\n",
       "<path d=\"M63,-146.313C63,-138.289 63,-128.547 63,-119.569\" fill=\"none\" stroke=\"black\"/>\n",
       "<polygon fill=\"black\" points=\"66.5001,-119.529 63,-109.529 59.5001,-119.529 66.5001,-119.529\" stroke=\"black\"/>\n",
       "</g>\n",
       "<!-- 2389205949320 -->\n",
       "<g class=\"node\" id=\"node5\"><title>2389205949320</title>\n",
       "<polygon fill=\"none\" points=\"25,-0.5 25,-36.5 101,-36.5 101,-0.5 25,-0.5\" stroke=\"black\"/>\n",
       "<text font-family=\"Times New Roman,serif\" font-size=\"14.00\" text-anchor=\"middle\" x=\"63\" y=\"-14.8\">out: Dense</text>\n",
       "</g>\n",
       "<!-- 2389205946568&#45;&gt;2389205949320 -->\n",
       "<g class=\"edge\" id=\"edge4\"><title>2389205946568-&gt;2389205949320</title>\n",
       "<path d=\"M63,-73.3129C63,-65.2895 63,-55.5475 63,-46.5691\" fill=\"none\" stroke=\"black\"/>\n",
       "<polygon fill=\"black\" points=\"66.5001,-46.5288 63,-36.5288 59.5001,-46.5289 66.5001,-46.5288\" stroke=\"black\"/>\n",
       "</g>\n",
       "</g>\n",
       "</svg>"
      ],
      "text/plain": [
       "<IPython.core.display.SVG object>"
      ]
     },
     "execution_count": 11,
     "metadata": {},
     "output_type": "execute_result"
    }
   ],
   "source": [
    "SVG(model_to_dot(PixModel).create(prog='dot', format='svg'))"
   ]
  },
  {
   "cell_type": "code",
   "execution_count": 12,
   "metadata": {},
   "outputs": [
    {
     "ename": "NameError",
     "evalue": "name 'ImgModel' is not defined",
     "output_type": "error",
     "traceback": [
      "\u001b[1;31m---------------------------------------------------------------------------\u001b[0m",
      "\u001b[1;31mNameError\u001b[0m                                 Traceback (most recent call last)",
      "\u001b[1;32m<ipython-input-12-e3807773c49a>\u001b[0m in \u001b[0;36m<module>\u001b[1;34m\u001b[0m\n\u001b[1;32m----> 1\u001b[1;33m \u001b[0mImgModel\u001b[0m\u001b[1;33m.\u001b[0m\u001b[0msummary\u001b[0m\u001b[1;33m(\u001b[0m\u001b[1;33m)\u001b[0m\u001b[1;33m\u001b[0m\u001b[1;33m\u001b[0m\u001b[0m\n\u001b[0m\u001b[0;32m      2\u001b[0m \u001b[0mplot_model\u001b[0m\u001b[1;33m(\u001b[0m\u001b[0mImgModel\u001b[0m\u001b[1;33m,\u001b[0m \u001b[0mto_file\u001b[0m\u001b[1;33m=\u001b[0m\u001b[1;34m'ImgModel.png'\u001b[0m\u001b[1;33m,\u001b[0m \u001b[0mshow_shapes\u001b[0m\u001b[1;33m=\u001b[0m\u001b[1;32mTrue\u001b[0m\u001b[1;33m)\u001b[0m\u001b[1;33m\u001b[0m\u001b[1;33m\u001b[0m\u001b[0m\n",
      "\u001b[1;31mNameError\u001b[0m: name 'ImgModel' is not defined"
     ]
    }
   ],
   "source": [
    "ImgModel.summary()\n",
    "plot_model(ImgModel, to_file='ImgModel.png', show_shapes=True)"
   ]
  },
  {
   "cell_type": "markdown",
   "metadata": {},
   "source": [
    "# End"
   ]
  },
  {
   "cell_type": "markdown",
   "metadata": {},
   "source": [
    "### test"
   ]
  },
  {
   "cell_type": "code",
   "execution_count": null,
   "metadata": {},
   "outputs": [],
   "source": []
  },
  {
   "cell_type": "code",
   "execution_count": null,
   "metadata": {},
   "outputs": [],
   "source": []
  }
 ],
 "metadata": {
  "kernelspec": {
   "display_name": "Python 3",
   "language": "python",
   "name": "python3"
  },
  "language_info": {
   "codemirror_mode": {
    "name": "ipython",
    "version": 3
   },
   "file_extension": ".py",
   "mimetype": "text/x-python",
   "name": "python",
   "nbconvert_exporter": "python",
   "pygments_lexer": "ipython3",
   "version": "3.7.7"
  }
 },
 "nbformat": 4,
 "nbformat_minor": 2
}
